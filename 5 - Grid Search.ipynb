{
 "cells": [
  {
   "cell_type": "code",
   "execution_count": 1,
   "metadata": {},
   "outputs": [
    {
     "name": "stderr",
     "output_type": "stream",
     "text": [
      "Using TensorFlow backend.\n"
     ]
    },
    {
     "name": "stdout",
     "output_type": "stream",
     "text": [
      "Fitting 3 folds for each of 30 candidates, totalling 90 fits\n"
     ]
    },
    {
     "name": "stderr",
     "output_type": "stream",
     "text": [
      "[Parallel(n_jobs=-1)]: Done  26 tasks      | elapsed:    5.7s\n",
      "[Parallel(n_jobs=-1)]: Done  90 out of  90 | elapsed:   46.1s finished\n"
     ]
    },
    {
     "name": "stdout",
     "output_type": "stream",
     "text": [
      "Best: 0.728814 using {'batch_size': 60, 'epochs': 1000}\n",
      "0.440678 (0.013526) with: {'batch_size': 10, 'epochs': 10}\n",
      "0.491525 (0.072974) with: {'batch_size': 10, 'epochs': 50}\n",
      "0.491525 (0.072974) with: {'batch_size': 10, 'epochs': 100}\n",
      "0.694915 (0.068180) with: {'batch_size': 10, 'epochs': 1000}\n",
      "0.661017 (0.080898) with: {'batch_size': 10, 'epochs': 10000}\n",
      "0.423729 (0.038118) with: {'batch_size': 20, 'epochs': 10}\n",
      "0.440678 (0.071962) with: {'batch_size': 20, 'epochs': 50}\n",
      "0.491525 (0.072974) with: {'batch_size': 20, 'epochs': 100}\n",
      "0.694915 (0.077085) with: {'batch_size': 20, 'epochs': 1000}\n",
      "0.677966 (0.098588) with: {'batch_size': 20, 'epochs': 10000}\n",
      "0.440678 (0.124067) with: {'batch_size': 40, 'epochs': 10}\n",
      "0.457627 (0.077812) with: {'batch_size': 40, 'epochs': 50}\n",
      "0.525424 (0.090224) with: {'batch_size': 40, 'epochs': 100}\n",
      "0.694915 (0.068180) with: {'batch_size': 40, 'epochs': 1000}\n",
      "0.677966 (0.091794) with: {'batch_size': 40, 'epochs': 10000}\n",
      "0.440678 (0.114338) with: {'batch_size': 60, 'epochs': 10}\n",
      "0.474576 (0.094804) with: {'batch_size': 60, 'epochs': 50}\n",
      "0.457627 (0.117350) with: {'batch_size': 60, 'epochs': 100}\n",
      "0.728814 (0.021315) with: {'batch_size': 60, 'epochs': 1000}\n",
      "0.644068 (0.104250) with: {'batch_size': 60, 'epochs': 10000}\n",
      "0.491525 (0.072974) with: {'batch_size': 80, 'epochs': 10}\n",
      "0.491525 (0.072974) with: {'batch_size': 80, 'epochs': 50}\n",
      "0.474576 (0.094804) with: {'batch_size': 80, 'epochs': 100}\n",
      "0.694915 (0.068180) with: {'batch_size': 80, 'epochs': 1000}\n",
      "0.677966 (0.128450) with: {'batch_size': 80, 'epochs': 10000}\n",
      "0.491525 (0.042966) with: {'batch_size': 100, 'epochs': 10}\n",
      "0.440678 (0.101308) with: {'batch_size': 100, 'epochs': 50}\n",
      "0.542373 (0.032544) with: {'batch_size': 100, 'epochs': 100}\n",
      "0.711864 (0.044624) with: {'batch_size': 100, 'epochs': 1000}\n",
      "0.644068 (0.117713) with: {'batch_size': 100, 'epochs': 10000}\n"
     ]
    }
   ],
   "source": [
    "import numpy as np\n",
    "from sklearn.model_selection import GridSearchCV\n",
    "from keras.models import Sequential\n",
    "from keras.layers import Dense\n",
    "from keras.wrappers.scikit_learn import KerasClassifier\n",
    "# Function to create model, required for KerasClassifier\n",
    "\n",
    "def create_model():\n",
    "# create model\n",
    "    model = Sequential()\n",
    "    model.add(Dense(120, input_dim=2, activation='relu'))\n",
    "    model.add(Dense(1, activation='sigmoid'))\n",
    "    # Compile model\n",
    "    model.compile(loss='binary_crossentropy', optimizer='adam', metrics=['accuracy'])\n",
    "    return model\n",
    "\n",
    "# fix random seed for reproducibility\n",
    "seed = 7\n",
    "np.random.seed(seed)\n",
    "# load dataset\n",
    "X_train = np.load('X_train.npy')\n",
    "X_test = np.load('X_test.npy')\n",
    "y_train = np.load('y_train.npy') \n",
    "y_test = np.load('y_test.npy')\n",
    "# create mode\n",
    "model = KerasClassifier(build_fn=create_model, verbose=0)\n",
    "# define the grid search parameters\n",
    "batch_size = [10, 20, 40, 60, 80, 100]\n",
    "epochs = [10, 50, 100,1000,10000]\n",
    "param_grid = dict(batch_size=batch_size, epochs=epochs)\n",
    "grid = GridSearchCV(estimator=model, param_grid=param_grid, n_jobs=-1,verbose=1)\n",
    "grid_result = grid.fit(X_train, y_train)\n",
    "# summarize results\n",
    "print(\"Best: %f using %s\" % (grid_result.best_score_, grid_result.best_params_))\n",
    "means = grid_result.cv_results_['mean_test_score']\n",
    "stds = grid_result.cv_results_['std_test_score']\n",
    "params = grid_result.cv_results_['params']\n",
    "for mean, stdev, param in zip(means, stds, params):\n",
    "    print(\"%f (%f) with: %r\" % (mean, stdev, param))\n"
   ]
  },
  {
   "cell_type": "code",
   "execution_count": null,
   "metadata": {},
   "outputs": [],
   "source": []
  }
 ],
 "metadata": {
  "kernelspec": {
   "display_name": "Python (tensorflow-gpu)",
   "language": "python",
   "name": "tensorflow-gpu"
  },
  "language_info": {
   "codemirror_mode": {
    "name": "ipython",
    "version": 3
   },
   "file_extension": ".py",
   "mimetype": "text/x-python",
   "name": "python",
   "nbconvert_exporter": "python",
   "pygments_lexer": "ipython3",
   "version": "3.6.5"
  }
 },
 "nbformat": 4,
 "nbformat_minor": 2
}
